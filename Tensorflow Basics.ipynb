{
 "cells": [
  {
   "cell_type": "markdown",
   "metadata": {},
   "source": [
    "<h3>Content</h3>\n",
    "<p>\n",
    "1. Building a Graph<br>\n",
    "2. Different ways of using Session<br>\n",
    "3. Creating a constant using tf.constant<br>\n",
    "4. Different way of evaluating a tensor => sess.run(), sess.run().decode(), tensor_variable.eval()<br>\n",
    "5. Creating a variable<br>\n",
    "6. Initialising a variable<br>\n",
    "7. Assigning a value to a variable<br>\n",
    "8. Very important difference between variable and constant in tensorflow. Also when tf.global_variables_initiailizer() fails : https://stackoverflow.com/questions/44745855/tensorflow-variables-and-constants\n",
    "</p>"
   ]
  },
  {
   "cell_type": "code",
   "execution_count": 1,
   "metadata": {},
   "outputs": [
    {
     "name": "stdout",
     "output_type": "stream",
     "text": [
      "Tensor(\"Const:0\", shape=(), dtype=string)\n",
      "Tensor(\"Const_1:0\", shape=(), dtype=int32)\n",
      "Tensor(\"Const_2:0\", shape=(), dtype=float32)\n",
      "Hello, There!!\n",
      "<type 'str'>\n",
      "<built-in method decode of str object at 0x7f229f3eb960>\n",
      "Hello, There!!\n",
      "<type 'unicode'>\n",
      "5\n"
     ]
    }
   ],
   "source": [
    "import tensorflow as tf\n",
    "\n",
    "# Building a graph. A default graph is being built.\n",
    "\n",
    "# A constant string\n",
    "msg = tf.constant(\"Hello, There!!\") # Returns a tensor of dtype=string And shape = ()\n",
    "print(msg) # Tensor(\"Const:0\", shape=(), dtype=string)\n",
    "\n",
    "# A constant integer\n",
    "num1 = tf.constant(5) # Returns a tensor of dtype=int32 And shape = ()\n",
    "print(num1) # Tensor(\"Const_1:0\", shape=(), dtype=int32)\n",
    "\n",
    "# A constant float\n",
    "num3 = tf.constant(4.3)\n",
    "print(num3)\n",
    "\n",
    "# A list of integers\n",
    "\n",
    "\n",
    "# Run the graph in a Session\n",
    "sess = tf.Session()\n",
    "\n",
    "# Printing a constant String\n",
    "print(sess.run(msg)) #b'Hello, There!!' => It is a byte array. Happens only with Strings\n",
    "print(type(sess.run(msg))) # <class 'bytes'>\n",
    "print(sess.run(msg).decode) # <built-in method decode of bytes object at 0x000002D109F2C300>\n",
    "print(sess.run(msg).decode()) # Hello, There!!\n",
    "print(type(sess.run(msg).decode())) # <class 'str'>\n",
    "\n",
    "# Printing a constant integer\n",
    "print(sess.run(num1)) # 5\n",
    "\n",
    "\n",
    "sess.close()"
   ]
  },
  {
   "cell_type": "markdown",
   "metadata": {},
   "source": [
    "<h3> Evaluating an expression </h3>"
   ]
  },
  {
   "cell_type": "code",
   "execution_count": 6,
   "metadata": {
    "collapsed": true
   },
   "outputs": [],
   "source": [
    "# Perform the following : [8*(5+3)]**2 => intermediate_sum = 8, intermediate_product = 8*8 = 64, result = 64*64 = 4096\n",
    "num1 = tf.constant(5)\n",
    "num2 = tf.constant(3)\n",
    "intermediate_sum = tf.add(num1, num2) # Returns a tensor\n",
    "num3 = tf.constant(8)\n",
    "intermediate_product = tf.multiply(num3, intermediate_sum)\n",
    "result = tf.pow(intermediate_product, 2)"
   ]
  },
  {
   "cell_type": "code",
   "execution_count": 7,
   "metadata": {},
   "outputs": [
    {
     "name": "stdout",
     "output_type": "stream",
     "text": [
      "4096\n",
      "<bound method Tensor.eval of <tf.Tensor 'Pow_1:0' shape=() dtype=int32>>\n",
      "4096\n"
     ]
    }
   ],
   "source": [
    "with tf.Session() as sess:\n",
    "    \n",
    "    # Method 1 : works all the time\n",
    "    print(sess.run(result)) # While using with tf.Session() as session, we can use result.eval() instead of sess.run(result)\n",
    "    \n",
    "    # Method 2 : eval works when we use \"with tf.Session() as sess\". Also works if we are using Interactive session\n",
    "    print(result.eval)\n",
    "    print(result.eval())"
   ]
  },
  {
   "cell_type": "markdown",
   "metadata": {},
   "source": [
    "<h2>2 cases when tensor.eval works</h2>"
   ]
  },
  {
   "cell_type": "markdown",
   "metadata": {},
   "source": [
    "<h3> Case 1 : with tf.Session as sess </h3>\n",
    "<p> Involves <b>implicit</b> closing of session </p>"
   ]
  },
  {
   "cell_type": "code",
   "execution_count": 9,
   "metadata": {},
   "outputs": [
    {
     "name": "stdout",
     "output_type": "stream",
     "text": [
      "4096\n",
      "<bound method Tensor.eval of <tf.Tensor 'Pow_1:0' shape=() dtype=int32>>\n",
      "4096\n"
     ]
    }
   ],
   "source": [
    "with tf.Session() as sess:\n",
    "    \n",
    "    # Method 1 : sess.run works all the time\n",
    "    print(sess.run(result)) # While using with tf.Session() as session, we can use result.eval() instead of sess.run(result)\n",
    "    \n",
    "    # Method 2 : eval works when we use \"with tf.Session() as sess\". Also works if we are using Interactive session\n",
    "    print(result.eval)\n",
    "    print(result.eval())\n",
    "    \n",
    "    # Default closing of session takes place."
   ]
  },
  {
   "cell_type": "markdown",
   "metadata": {},
   "source": [
    "<h3> Case 2 : tf.InteractiveSession() </h3>\n",
    "<p> Requires <b>explicit</b> closing of session </p>"
   ]
  },
  {
   "cell_type": "code",
   "execution_count": 10,
   "metadata": {},
   "outputs": [
    {
     "name": "stdout",
     "output_type": "stream",
     "text": [
      "4096\n"
     ]
    }
   ],
   "source": [
    "sess = tf.InteractiveSession()\n",
    "print(result.eval())\n",
    "sess.close() # Explicitly close the session now"
   ]
  },
  {
   "cell_type": "markdown",
   "metadata": {},
   "source": [
    "<h2>Multiplying 2 Matrices</h2>"
   ]
  },
  {
   "cell_type": "code",
   "execution_count": 11,
   "metadata": {},
   "outputs": [
    {
     "name": "stdout",
     "output_type": "stream",
     "text": [
      "---mat1---\n",
      "[[3 4]\n",
      " [3 4]]\n",
      "---mat2---\n",
      "[[4 5]\n",
      " [4 5]]\n",
      "--Matrix multiplication---\n",
      "[[28 35]\n",
      " [28 35]]\n"
     ]
    }
   ],
   "source": [
    "mat1 = tf.constant([3,4,3,4], shape=[2,2])\n",
    "mat2 = tf.constant([4,5,4,5], shape=[2,2])\n",
    "dot_product = tf.matmul(mat1, mat2)\n",
    "with tf.Session() as sess: # No explicitly sess.close() required.\n",
    "    print(\"---mat1---\")\n",
    "    print(mat1.eval())\n",
    "    print(\"---mat2---\")\n",
    "    print(mat2.eval())\n",
    "    print(\"--Matrix multiplication---\")\n",
    "    print(dot_product.eval())"
   ]
  },
  {
   "cell_type": "markdown",
   "metadata": {},
   "source": [
    "<h2> Using placeholder to hold variable values </h2>"
   ]
  },
  {
   "cell_type": "code",
   "execution_count": 3,
   "metadata": {},
   "outputs": [
    {
     "name": "stdout",
     "output_type": "stream",
     "text": [
      "Enter first number: 5\n",
      "Enter second number: 6\n",
      "11\n",
      "11\n"
     ]
    }
   ],
   "source": [
    "# Building a Graph\n",
    "num1 = tf.placeholder(dtype=tf.int32)\n",
    "num2 = tf.placeholder(dtype=tf.int32)\n",
    "s = tf.add(num1, num2)\n",
    "\n",
    "# Taking user input\n",
    "n1 = int(input(\"Enter first number: \"))\n",
    "n2 = int(input(\"Enter second number: \"))\n",
    "\n",
    "# Running the graph in a session\n",
    "sess = tf.InteractiveSession()# tensor.eval can be used. Explicit closing of session using sess.close() required.\n",
    "print(s.eval(feed_dict={num1:n1, num2:n2}))\n",
    "print(sess.run(s,feed_dict={num1:n1, num2:n2}))\n",
    "sess.close()"
   ]
  },
  {
   "cell_type": "markdown",
   "metadata": {},
   "source": [
    "<h2>Initialising Variables using tf.Variable and using tf.global_variables_initializer()</h2>\n",
    "<p> Note that tf.Variable() constructor ALWAYS creates new variables, even if a variable with same name already exists. It will over-write the previous variable having the same name.\n",
    "    To reuse a variable, use <b>tf.get_variable()</b>\n",
    "    </p>"
   ]
  },
  {
   "cell_type": "code",
   "execution_count": 29,
   "metadata": {},
   "outputs": [
    {
     "name": "stdout",
     "output_type": "stream",
     "text": [
      "integer variable <tf.Variable 'myVariable1_8:0' shape=() dtype=int32_ref>\n",
      "string variable <tf.Variable 'myVariable2_6:0' shape=() dtype=string_ref>\n",
      "53\n"
     ]
    }
   ],
   "source": [
    "int_value = 53\n",
    "var1 = tf.Variable(int_value, name='myVariable1') # determines tensor type depending on the type of the value passed.\n",
    "print(\"integer variable\", var1)\n",
    "str_value = 'What up!!!'\n",
    "var2 = tf.Variable(str_value, name='myVariable2')\n",
    "print(\"string variable\", var2)\n",
    "\n",
    "with tf.Session() as sess:\n",
    "   # print(var1.eval())\n",
    "    '''FailedPreconditionError: Attempting to use uninitialized value myVariable1_4\n",
    "\t [[Node: _retval_myVariable1_4_0_0 = _Retval[T=DT_INT32, index=0, _device=\"/job:localhost/replica:0/task:0/device:CPU:0\"](myVariable1_4)]]'''\n",
    "    sess.run(tf.global_variables_initializer()) # Initialize all the variables\n",
    "    print(var1.eval()) # Not an error.\n"
   ]
  },
  {
   "cell_type": "markdown",
   "metadata": {},
   "source": [
    "<h2>Assigning values to Variables using tf.assign"
   ]
  },
  {
   "cell_type": "code",
   "execution_count": 30,
   "metadata": {},
   "outputs": [
    {
     "name": "stdout",
     "output_type": "stream",
     "text": [
      "Enter value 1: 4\n",
      "Enter value 2: 3\n",
      "4\n",
      "3\n"
     ]
    }
   ],
   "source": [
    "initial_value_one = 20\n",
    "v1 = tf.Variable(initial_value_one, name='v1')\n",
    "\n",
    "initial_value_two = 30\n",
    "v2 = tf.Variable(initial_value_two, name='v2')\n",
    "\n",
    "# Taking input from user\n",
    "value1 = int(input(\"Enter value 1: \"))\n",
    "value2 = int(input(\"Enter value 2: \"))\n",
    "\n",
    "# Since we are assigning a value now, it is not necessary to use tf.global_variables_initializer()\n",
    "t1 = tf.assign(v1, value1)\n",
    "t2 = tf.assign(v2, value2)\n",
    "\n",
    "with tf.Session() as sess:\n",
    "    print(t1.eval())\n",
    "    print(t2.eval())"
   ]
  },
  {
   "cell_type": "code",
   "execution_count": null,
   "metadata": {
    "collapsed": true
   },
   "outputs": [],
   "source": []
  }
 ],
 "metadata": {
  "kernelspec": {
   "display_name": "Python 2",
   "language": "python",
   "name": "python2"
  },
  "language_info": {
   "codemirror_mode": {
    "name": "ipython",
    "version": 2
   },
   "file_extension": ".py",
   "mimetype": "text/x-python",
   "name": "python",
   "nbconvert_exporter": "python",
   "pygments_lexer": "ipython2",
   "version": "2.7.13"
  }
 },
 "nbformat": 4,
 "nbformat_minor": 2
}
