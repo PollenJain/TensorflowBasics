{
 "cells": [
  {
   "cell_type": "code",
   "execution_count": 2,
   "metadata": {
    "collapsed": true
   },
   "outputs": [],
   "source": [
    "import numpy as np\n",
    "import csv\n",
    "import tensorflow as tf \n",
    "from matplotlib import pyplot as plt"
   ]
  },
  {
   "cell_type": "code",
   "execution_count": 4,
   "metadata": {},
   "outputs": [
    {
     "name": "stdout",
     "output_type": "stream",
     "text": [
      "---------DATASET-----------------\n",
      "[[  3.38500000e+00   4.50000000e+00]\n",
      " [  4.80000000e-01   5.50000000e+00]\n",
      " [  1.35000000e+00   8.10000000e+00]\n",
      " [  5.00000000e+00   3.00000000e+00]\n",
      " [  6.33000000e+00   9.50000000e+00]\n",
      " [  7.66000000e+00   5.00000000e+00]\n",
      " [  4.83000000e+00   8.20000000e+00]\n",
      " [  1.04000000e+00   5.50000000e+00]\n",
      " [  4.19000000e+00   5.00000000e+00]\n",
      " [  4.25000000e-01   1.40000000e+00]\n",
      " [  1.01000000e-01   4.00000000e+00]\n",
      " [  3.92000000e+00   5.70000000e+00]\n",
      " [  1.00000000e+00   6.60000000e+00]\n",
      " [  5.00000000e-03   1.40000000e-01]\n",
      " [  6.00000000e-02   1.00000000e+00]\n",
      " [  3.50000000e+00   4.80000000e+00]\n",
      " [  2.00000000e+00   2.30000000e+00]\n",
      " [  1.70000000e+00   6.30000000e+00]\n",
      " [  2.00000000e+00   3.00000000e+00]\n",
      " [  2.30000000e-02   3.00000000e-01]\n",
      " [  5.10000000e+00   4.00000000e+00]\n",
      " [  5.00000000e+00   6.00000000e+00]\n",
      " [  7.85000000e-01   2.50000000e+00]\n",
      " [  1.00000000e+00   1.10000000e+00]\n",
      " [  3.30000000e+00   2.60000000e+00]\n",
      " [  2.00000000e-01   5.00000000e+00]\n",
      " [  1.41000000e+00   1.50000000e+00]\n",
      " [  6.00000000e+00   5.00000000e+00]\n",
      " [  7.00000000e+00   6.00000000e+00]\n",
      " [  8.00000000e+00   5.00000000e+00]\n",
      " [  7.50000000e-01   4.30000000e+00]\n",
      " [  6.00000000e+00   4.00000000e+00]\n",
      " [  6.00000000e+00   5.00000000e+00]\n",
      " [  3.50000000e+00   3.90000000e+00]\n",
      " [  6.80000000e+00   7.00000000e+00]\n",
      " [  5.00000000e+00   6.00000000e+00]\n",
      " [  4.05000000e+00   7.00000000e+00]\n",
      " [  1.20000000e-01   1.00000000e+00]\n",
      " [  2.30000000e-02   4.00000000e-01]\n",
      " [  1.00000000e-02   2.50000000e-01]\n",
      " [  1.40000000e+00   4.50000000e+00]\n",
      " [  2.56600000e+00   5.33000000e+00]\n",
      " [  2.50000000e+00   4.10000000e+00]\n",
      " [  5.50000000e+00   7.00000000e+00]\n",
      " [  4.00000000e+00   1.00000000e+00]\n",
      " [  2.16000000e+00   4.00000000e+00]\n",
      " [  4.55000000e+00   6.50000000e+00]\n",
      " [  1.55000000e+00   5.40000000e+00]\n",
      " [  7.00000000e+00   8.00000000e+00]\n",
      " [  3.60000000e+00   2.00000000e+00]\n",
      " [  4.28800000e+00   3.20000000e+00]\n",
      " [  2.80000000e-01   1.90000000e+00]\n",
      " [  7.50000000e-01   1.20000000e+00]\n",
      " [  1.22000000e-01   3.00000000e+00]\n",
      " [  4.80000000e-01   3.30000000e-01]\n",
      " [  3.00000000e+00   5.88500000e+00]\n",
      " [  3.00000000e+00   5.00000000e+00]\n",
      " [  5.78800000e+00   7.33300000e+00]\n",
      " [  9.00000000e-01   2.60000000e+00]\n",
      " [  1.62000000e+00   4.40000000e+00]\n",
      " [  1.04000000e-01   2.50000000e+00]\n",
      " [  4.23500000e+00   5.40000000e+00]\n",
      " [  2.30000000e+00   4.40000000e+00]\n",
      " [  1.30000000e+00   2.10000000e+00]\n",
      " [  5.00000000e-01   7.00000000e-01]\n",
      " [  2.00000000e-01   4.00000000e-01]\n",
      " [  4.20000000e+00   5.20000000e+00]\n",
      " [  2.44000000e+00   3.55000000e+00]\n",
      " [  1.98000000e+00   4.45000000e+00]\n",
      " [  9.80000000e-01   1.20000000e+00]\n",
      " [  2.00000000e-01   3.40000000e-01]\n",
      " [  3.44000000e+00   2.40000000e+00]\n",
      " [  4.50000000e+00   3.02000000e+00]\n",
      " [  3.56000000e+00   5.99000000e+00]\n",
      " [  3.00000000e+00   4.00000000e+00]]\n"
     ]
    }
   ],
   "source": [
    "# Read from a file\n",
    "file_as_list = np.array(list(csv.reader(open(\"LR.csv\")))) # list of strings\n",
    "#print(file_as_list)\n",
    "string_to_float = file_as_list.astype(np.float)\n",
    "print(\"---------DATASET-----------------\")\n",
    "print(string_to_float)\n",
    "train_x = tf.constant(string_to_float[:,0])\n",
    "train_y = tf.constant(string_to_float[:,1])"
   ]
  },
  {
   "cell_type": "code",
   "execution_count": 5,
   "metadata": {},
   "outputs": [
    {
     "data": {
      "image/png": "[encoded data removed]",
      "text/plain": [
       "<matplotlib.figure.Figure at 0x7f4bb6b198d0>"
      ]
     },
     "metadata": {},
     "output_type": "display_data"
    }
   ],
   "source": [
    "with tf.Session() as sess:\n",
    "    #plt.plot(train_x.eval(), train_y.eval())\n",
    "    plt.plot(train_x.eval(), train_y.eval(), \"ro\", label=\"data\")\n",
    "    #plt.plot(train_x.eval(), train_y.eval(), \"r+\")\n",
    "    plt.show()"
   ]
  },
  {
   "cell_type": "code",
   "execution_count": null,
   "metadata": {
    "collapsed": true
   },
   "outputs": [],
   "source": []
  }
 ],
 "metadata": {
  "kernelspec": {
   "display_name": "Python 2",
   "language": "python",
   "name": "python2"
  },
  "language_info": {
   "codemirror_mode": {
    "name": "ipython",
    "version": 2
   },
   "file_extension": ".py",
   "mimetype": "text/x-python",
   "name": "python",
   "nbconvert_exporter": "python",
   "pygments_lexer": "ipython2",
   "version": "2.7.13"
  }
 },
 "nbformat": 4,
 "nbformat_minor": 2
}
